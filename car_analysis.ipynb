{
 "cells": [
  {
   "cell_type": "markdown",
   "metadata": {
    "papermill": {
     "duration": 0.0326,
     "end_time": "2021-05-22T15:48:26.833691",
     "exception": false,
     "start_time": "2021-05-22T15:48:26.801091",
     "status": "completed"
    },
    "tags": []
   },
   "source": [
    "# I. DATA SET AND PREPROCESSING"
   ]
  },
  {
   "cell_type": "markdown",
   "metadata": {
    "papermill": {
     "duration": 0.033333,
     "end_time": "2021-05-22T15:48:26.899258",
     "exception": false,
     "start_time": "2021-05-22T15:48:26.865925",
     "status": "completed"
    },
    "tags": []
   },
   "source": [
    "We use dataset from Kaggle for used car auction price prediction. The dataset contains various features that are required to predict and classify the range of prices of used cars."
   ]
  },
  {
   "cell_type": "code",
   "execution_count": 1,
   "metadata": {
    "execution": {
     "iopub.execute_input": "2021-05-22T15:48:27.160773Z",
     "iopub.status.busy": "2021-05-22T15:48:27.160195Z",
     "iopub.status.idle": "2021-05-22T15:48:29.142642Z",
     "shell.execute_reply": "2021-05-22T15:48:29.143174Z"
    },
    "papermill": {
     "duration": 2.022697,
     "end_time": "2021-05-22T15:48:29.143318",
     "exception": false,
     "start_time": "2021-05-22T15:48:27.120621",
     "status": "completed"
    },
    "tags": []
   },
   "outputs": [],
   "source": [
    "import matplotlib\n",
    "import matplotlib.pyplot as plt\n",
    "import numpy as np\n",
    "import pandas as pd\n",
    "import seaborn as sns\n",
    "import plotly\n",
    "from scipy import stats\n",
    "import warnings\n",
    "warnings.filterwarnings(\"ignore\")"
   ]
  },
  {
   "cell_type": "markdown",
   "metadata": {
    "papermill": {
     "duration": 0.032006,
     "end_time": "2021-05-22T15:48:29.211516",
     "exception": false,
     "start_time": "2021-05-22T15:48:29.179510",
     "status": "completed"
    },
    "tags": []
   },
   "source": [
    "Libraries for ML"
   ]
  },
  {
   "cell_type": "code",
   "execution_count": 2,
   "metadata": {
    "execution": {
     "iopub.execute_input": "2021-05-22T15:48:29.279937Z",
     "iopub.status.busy": "2021-05-22T15:48:29.279311Z",
     "iopub.status.idle": "2021-05-22T15:48:30.307049Z",
     "shell.execute_reply": "2021-05-22T15:48:30.306539Z"
    },
    "papermill": {
     "duration": 1.062319,
     "end_time": "2021-05-22T15:48:30.307168",
     "exception": false,
     "start_time": "2021-05-22T15:48:29.244849",
     "status": "completed"
    },
    "tags": []
   },
   "outputs": [],
   "source": [
    "from sklearn import preprocessing\n",
    "from sklearn.ensemble import RandomForestRegressor\n",
    "from sklearn.model_selection import train_test_split\n",
    "from sklearn.tree import DecisionTreeRegressor"
   ]
  },
  {
   "cell_type": "code",
   "execution_count": 3,
   "metadata": {},
   "outputs": [
    {
     "name": "stdout",
     "output_type": "stream",
     "text": [
      "row number:  558811\n",
      "column number:  16\n"
     ]
    }
   ],
   "source": [
    "data = pd.read_csv('car_prices.csv', on_bad_lines='skip')\n",
    "print(\"row number: \", len(data))\n",
    "print(\"column number: \", len(data.columns))"
   ]
  },
  {
   "cell_type": "code",
   "execution_count": 4,
   "metadata": {},
   "outputs": [
    {
     "data": {
      "text/html": [
       "<div>\n",
       "<style scoped>\n",
       "    .dataframe tbody tr th:only-of-type {\n",
       "        vertical-align: middle;\n",
       "    }\n",
       "\n",
       "    .dataframe tbody tr th {\n",
       "        vertical-align: top;\n",
       "    }\n",
       "\n",
       "    .dataframe thead th {\n",
       "        text-align: right;\n",
       "    }\n",
       "</style>\n",
       "<table border=\"1\" class=\"dataframe\">\n",
       "  <thead>\n",
       "    <tr style=\"text-align: right;\">\n",
       "      <th></th>\n",
       "      <th>year</th>\n",
       "      <th>make</th>\n",
       "      <th>model</th>\n",
       "      <th>trim</th>\n",
       "      <th>body</th>\n",
       "      <th>transmission</th>\n",
       "      <th>vin</th>\n",
       "      <th>state</th>\n",
       "      <th>condition</th>\n",
       "      <th>odometer</th>\n",
       "      <th>color</th>\n",
       "      <th>interior</th>\n",
       "      <th>seller</th>\n",
       "      <th>mmr</th>\n",
       "      <th>sellingprice</th>\n",
       "      <th>saledate</th>\n",
       "    </tr>\n",
       "  </thead>\n",
       "  <tbody>\n",
       "    <tr>\n",
       "      <th>0</th>\n",
       "      <td>2015</td>\n",
       "      <td>Kia</td>\n",
       "      <td>Sorento</td>\n",
       "      <td>LX</td>\n",
       "      <td>SUV</td>\n",
       "      <td>automatic</td>\n",
       "      <td>5xyktca69fg566472</td>\n",
       "      <td>ca</td>\n",
       "      <td>5.0</td>\n",
       "      <td>16639.0</td>\n",
       "      <td>white</td>\n",
       "      <td>black</td>\n",
       "      <td>kia motors america, inc</td>\n",
       "      <td>20500</td>\n",
       "      <td>21500</td>\n",
       "      <td>Tue Dec 16 2014 12:30:00 GMT-0800 (PST)</td>\n",
       "    </tr>\n",
       "    <tr>\n",
       "      <th>1</th>\n",
       "      <td>2015</td>\n",
       "      <td>Kia</td>\n",
       "      <td>Sorento</td>\n",
       "      <td>LX</td>\n",
       "      <td>SUV</td>\n",
       "      <td>automatic</td>\n",
       "      <td>5xyktca69fg561319</td>\n",
       "      <td>ca</td>\n",
       "      <td>5.0</td>\n",
       "      <td>9393.0</td>\n",
       "      <td>white</td>\n",
       "      <td>beige</td>\n",
       "      <td>kia motors america, inc</td>\n",
       "      <td>20800</td>\n",
       "      <td>21500</td>\n",
       "      <td>Tue Dec 16 2014 12:30:00 GMT-0800 (PST)</td>\n",
       "    </tr>\n",
       "    <tr>\n",
       "      <th>2</th>\n",
       "      <td>2014</td>\n",
       "      <td>BMW</td>\n",
       "      <td>3 Series</td>\n",
       "      <td>328i SULEV</td>\n",
       "      <td>Sedan</td>\n",
       "      <td>automatic</td>\n",
       "      <td>wba3c1c51ek116351</td>\n",
       "      <td>ca</td>\n",
       "      <td>4.5</td>\n",
       "      <td>1331.0</td>\n",
       "      <td>gray</td>\n",
       "      <td>black</td>\n",
       "      <td>financial services remarketing (lease)</td>\n",
       "      <td>31900</td>\n",
       "      <td>30000</td>\n",
       "      <td>Thu Jan 15 2015 04:30:00 GMT-0800 (PST)</td>\n",
       "    </tr>\n",
       "  </tbody>\n",
       "</table>\n",
       "</div>"
      ],
      "text/plain": [
       "   year make     model        trim   body transmission                vin  \\\n",
       "0  2015  Kia   Sorento          LX    SUV    automatic  5xyktca69fg566472   \n",
       "1  2015  Kia   Sorento          LX    SUV    automatic  5xyktca69fg561319   \n",
       "2  2014  BMW  3 Series  328i SULEV  Sedan    automatic  wba3c1c51ek116351   \n",
       "\n",
       "  state  condition  odometer  color interior  \\\n",
       "0    ca        5.0   16639.0  white    black   \n",
       "1    ca        5.0    9393.0  white    beige   \n",
       "2    ca        4.5    1331.0   gray    black   \n",
       "\n",
       "                                   seller    mmr  sellingprice  \\\n",
       "0                 kia motors america, inc  20500         21500   \n",
       "1                 kia motors america, inc  20800         21500   \n",
       "2  financial services remarketing (lease)  31900         30000   \n",
       "\n",
       "                                  saledate  \n",
       "0  Tue Dec 16 2014 12:30:00 GMT-0800 (PST)  \n",
       "1  Tue Dec 16 2014 12:30:00 GMT-0800 (PST)  \n",
       "2  Thu Jan 15 2015 04:30:00 GMT-0800 (PST)  "
      ]
     },
     "execution_count": 4,
     "metadata": {},
     "output_type": "execute_result"
    }
   ],
   "source": [
    "data.head(3)"
   ]
  },
  {
   "cell_type": "code",
   "execution_count": 5,
   "metadata": {},
   "outputs": [
    {
     "name": "stdout",
     "output_type": "stream",
     "text": [
      "<class 'pandas.core.frame.DataFrame'>\n",
      "RangeIndex: 558811 entries, 0 to 558810\n",
      "Data columns (total 16 columns):\n",
      " #   Column        Non-Null Count   Dtype  \n",
      "---  ------        --------------   -----  \n",
      " 0   year          558811 non-null  int64  \n",
      " 1   make          548510 non-null  object \n",
      " 2   model         548412 non-null  object \n",
      " 3   trim          548160 non-null  object \n",
      " 4   body          545616 non-null  object \n",
      " 5   transmission  493458 non-null  object \n",
      " 6   vin           558811 non-null  object \n",
      " 7   state         558811 non-null  object \n",
      " 8   condition     547017 non-null  float64\n",
      " 9   odometer      558717 non-null  float64\n",
      " 10  color         558062 non-null  object \n",
      " 11  interior      558062 non-null  object \n",
      " 12  seller        558811 non-null  object \n",
      " 13  mmr           558811 non-null  int64  \n",
      " 14  sellingprice  558811 non-null  int64  \n",
      " 15  saledate      558811 non-null  object \n",
      "dtypes: float64(2), int64(3), object(11)\n",
      "memory usage: 68.2+ MB\n"
     ]
    }
   ],
   "source": [
    "data.info()"
   ]
  },
  {
   "cell_type": "code",
   "execution_count": 6,
   "metadata": {},
   "outputs": [
    {
     "name": "stdout",
     "output_type": "stream",
     "text": [
      "Most important features relative to selling price:\n",
      "sellingprice    1.000000\n",
      "mmr             0.983634\n",
      "year            0.586488\n",
      "condition       0.538788\n",
      "odometer       -0.582405\n",
      "Name: sellingprice, dtype: float64\n"
     ]
    }
   ],
   "source": [
    "print(\"Most important features relative to selling price:\")\n",
    "corr = data.corr()\n",
    "corr.sort_values([\"sellingprice\"], ascending = False, inplace = True)\n",
    "print(corr.sellingprice)"
   ]
  },
  {
   "cell_type": "code",
   "execution_count": 7,
   "metadata": {},
   "outputs": [
    {
     "data": {
      "text/html": [
       "<div>\n",
       "<style scoped>\n",
       "    .dataframe tbody tr th:only-of-type {\n",
       "        vertical-align: middle;\n",
       "    }\n",
       "\n",
       "    .dataframe tbody tr th {\n",
       "        vertical-align: top;\n",
       "    }\n",
       "\n",
       "    .dataframe thead th {\n",
       "        text-align: right;\n",
       "    }\n",
       "</style>\n",
       "<table border=\"1\" class=\"dataframe\">\n",
       "  <thead>\n",
       "    <tr style=\"text-align: right;\">\n",
       "      <th></th>\n",
       "      <th>year</th>\n",
       "      <th>condition</th>\n",
       "      <th>odometer</th>\n",
       "      <th>mmr</th>\n",
       "      <th>sellingprice</th>\n",
       "    </tr>\n",
       "  </thead>\n",
       "  <tbody>\n",
       "    <tr>\n",
       "      <th>count</th>\n",
       "      <td>558811.000000</td>\n",
       "      <td>547017.000000</td>\n",
       "      <td>558717.000000</td>\n",
       "      <td>558811.000000</td>\n",
       "      <td>558811.000000</td>\n",
       "    </tr>\n",
       "    <tr>\n",
       "      <th>mean</th>\n",
       "      <td>2010.038696</td>\n",
       "      <td>3.424512</td>\n",
       "      <td>68323.195797</td>\n",
       "      <td>13769.324646</td>\n",
       "      <td>13611.262461</td>\n",
       "    </tr>\n",
       "    <tr>\n",
       "      <th>std</th>\n",
       "      <td>3.966812</td>\n",
       "      <td>0.949439</td>\n",
       "      <td>53397.752933</td>\n",
       "      <td>9679.874607</td>\n",
       "      <td>9749.656919</td>\n",
       "    </tr>\n",
       "    <tr>\n",
       "      <th>min</th>\n",
       "      <td>1982.000000</td>\n",
       "      <td>1.000000</td>\n",
       "      <td>1.000000</td>\n",
       "      <td>25.000000</td>\n",
       "      <td>1.000000</td>\n",
       "    </tr>\n",
       "    <tr>\n",
       "      <th>25%</th>\n",
       "      <td>2007.000000</td>\n",
       "      <td>2.700000</td>\n",
       "      <td>28374.000000</td>\n",
       "      <td>7100.000000</td>\n",
       "      <td>6900.000000</td>\n",
       "    </tr>\n",
       "    <tr>\n",
       "      <th>50%</th>\n",
       "      <td>2012.000000</td>\n",
       "      <td>3.600000</td>\n",
       "      <td>52256.000000</td>\n",
       "      <td>12250.000000</td>\n",
       "      <td>12100.000000</td>\n",
       "    </tr>\n",
       "    <tr>\n",
       "      <th>75%</th>\n",
       "      <td>2013.000000</td>\n",
       "      <td>4.200000</td>\n",
       "      <td>99112.000000</td>\n",
       "      <td>18300.000000</td>\n",
       "      <td>18200.000000</td>\n",
       "    </tr>\n",
       "    <tr>\n",
       "      <th>max</th>\n",
       "      <td>2015.000000</td>\n",
       "      <td>5.000000</td>\n",
       "      <td>999999.000000</td>\n",
       "      <td>182000.000000</td>\n",
       "      <td>230000.000000</td>\n",
       "    </tr>\n",
       "  </tbody>\n",
       "</table>\n",
       "</div>"
      ],
      "text/plain": [
       "                year      condition       odometer            mmr  \\\n",
       "count  558811.000000  547017.000000  558717.000000  558811.000000   \n",
       "mean     2010.038696       3.424512   68323.195797   13769.324646   \n",
       "std         3.966812       0.949439   53397.752933    9679.874607   \n",
       "min      1982.000000       1.000000       1.000000      25.000000   \n",
       "25%      2007.000000       2.700000   28374.000000    7100.000000   \n",
       "50%      2012.000000       3.600000   52256.000000   12250.000000   \n",
       "75%      2013.000000       4.200000   99112.000000   18300.000000   \n",
       "max      2015.000000       5.000000  999999.000000  182000.000000   \n",
       "\n",
       "        sellingprice  \n",
       "count  558811.000000  \n",
       "mean    13611.262461  \n",
       "std      9749.656919  \n",
       "min         1.000000  \n",
       "25%      6900.000000  \n",
       "50%     12100.000000  \n",
       "75%     18200.000000  \n",
       "max    230000.000000  "
      ]
     },
     "execution_count": 7,
     "metadata": {},
     "output_type": "execute_result"
    }
   ],
   "source": [
    "data.describe()"
   ]
  },
  {
   "cell_type": "code",
   "execution_count": 8,
   "metadata": {
    "execution": {
     "iopub.execute_input": "2021-05-22T15:48:30.381273Z",
     "iopub.status.busy": "2021-05-22T15:48:30.380632Z",
     "iopub.status.idle": "2021-05-22T15:48:30.395412Z",
     "shell.execute_reply": "2021-05-22T15:48:30.395824Z"
    },
    "papermill": {
     "duration": 0.055341,
     "end_time": "2021-05-22T15:48:30.395976",
     "exception": false,
     "start_time": "2021-05-22T15:48:30.340635",
     "status": "completed"
    },
    "tags": []
   },
   "outputs": [
    {
     "data": {
      "text/plain": [
       "year                0\n",
       "make            10301\n",
       "model           10399\n",
       "trim            10651\n",
       "body            13195\n",
       "transmission    65353\n",
       "vin                 0\n",
       "state               0\n",
       "condition       11794\n",
       "odometer           94\n",
       "color             749\n",
       "interior          749\n",
       "seller              0\n",
       "mmr                 0\n",
       "sellingprice        0\n",
       "saledate            0\n",
       "dtype: int64"
      ]
     },
     "execution_count": 8,
     "metadata": {},
     "output_type": "execute_result"
    }
   ],
   "source": [
    "data.isnull().sum()"
   ]
  },
  {
   "cell_type": "markdown",
   "metadata": {
    "papermill": {
     "duration": 0.032998,
     "end_time": "2021-05-22T15:48:30.541240",
     "exception": false,
     "start_time": "2021-05-22T15:48:30.508242",
     "status": "completed"
    },
    "tags": []
   },
   "source": [
    "We don't need columns \"seller\", \"saledate\" and \"vin\" since they don't influence the price.\n",
    "\"mmr\" though seems to influence the price a lot, but according to it's defenition and correlation it's actually a variable that depends on every other feature. We dropped it too."
   ]
  },
  {
   "cell_type": "code",
   "execution_count": 9,
   "metadata": {
    "execution": {
     "iopub.execute_input": "2021-05-22T15:48:30.618174Z",
     "iopub.status.busy": "2021-05-22T15:48:30.617518Z",
     "iopub.status.idle": "2021-05-22T15:48:30.631596Z",
     "shell.execute_reply": "2021-05-22T15:48:30.632105Z"
    },
    "papermill": {
     "duration": 0.053687,
     "end_time": "2021-05-22T15:48:30.632262",
     "exception": false,
     "start_time": "2021-05-22T15:48:30.578575",
     "status": "completed"
    },
    "tags": []
   },
   "outputs": [],
   "source": [
    "data = data.dropna(how='any')\n",
    "data.drop(columns=['vin', 'seller', 'saledate','mmr'], inplace=True)"
   ]
  },
  {
   "cell_type": "markdown",
   "metadata": {
    "papermill": {
     "duration": 0.03448,
     "end_time": "2021-05-22T15:48:30.702441",
     "exception": false,
     "start_time": "2021-05-22T15:48:30.667961",
     "status": "completed"
    },
    "tags": []
   },
   "source": [
    "Here is what we have as a result:"
   ]
  },
  {
   "cell_type": "code",
   "execution_count": 10,
   "metadata": {
    "execution": {
     "iopub.execute_input": "2021-05-22T15:48:30.858061Z",
     "iopub.status.busy": "2021-05-22T15:48:30.857486Z",
     "iopub.status.idle": "2021-05-22T15:48:30.861766Z",
     "shell.execute_reply": "2021-05-22T15:48:30.862296Z"
    },
    "papermill": {
     "duration": 0.040963,
     "end_time": "2021-05-22T15:48:30.862424",
     "exception": false,
     "start_time": "2021-05-22T15:48:30.821461",
     "status": "completed"
    },
    "tags": []
   },
   "outputs": [
    {
     "data": {
      "text/plain": [
       "(472336, 12)"
      ]
     },
     "execution_count": 10,
     "metadata": {},
     "output_type": "execute_result"
    }
   ],
   "source": [
    "data.shape"
   ]
  },
  {
   "cell_type": "code",
   "execution_count": 11,
   "metadata": {},
   "outputs": [
    {
     "data": {
      "image/png": "[encoded data removed]",
      "text/plain": [
       "<Figure size 1440x1080 with 4 Axes>"
      ]
     },
     "metadata": {
      "needs_background": "light"
     },
     "output_type": "display_data"
    }
   ],
   "source": [
    "%matplotlib inline\n",
    "data.hist(bins=50, figsize=(20,15))\n",
    "plt.show()"
   ]
  },
  {
   "cell_type": "code",
   "execution_count": 12,
   "metadata": {
    "execution": {
     "iopub.execute_input": "2021-05-22T15:48:31.086187Z",
     "iopub.status.busy": "2021-05-22T15:48:31.085541Z",
     "iopub.status.idle": "2021-05-22T15:48:31.088812Z",
     "shell.execute_reply": "2021-05-22T15:48:31.089402Z"
    },
    "papermill": {
     "duration": 0.044383,
     "end_time": "2021-05-22T15:48:31.089591",
     "exception": false,
     "start_time": "2021-05-22T15:48:31.045208",
     "status": "completed"
    },
    "tags": []
   },
   "outputs": [
    {
     "name": "stdout",
     "output_type": "stream",
     "text": [
      "Missing values in first list: set()\n"
     ]
    }
   ],
   "source": [
    "listtrain = data['make']\n",
    "  \n",
    "# prints the missing in listtrain \n",
    "print(\"Missing values in first list:\", (set(listtrain).difference(listtrain))) "
   ]
  },
  {
   "cell_type": "markdown",
   "metadata": {},
   "source": [
    "There are some values like \"SUV\" and \"suv\" in our dataset, so we make all string occurances in lower case."
   ]
  },
  {
   "cell_type": "code",
   "execution_count": 13,
   "metadata": {
    "execution": {
     "iopub.execute_input": "2021-05-22T15:48:32.025436Z",
     "iopub.status.busy": "2021-05-22T15:48:32.024346Z",
     "iopub.status.idle": "2021-05-22T15:48:32.056484Z",
     "shell.execute_reply": "2021-05-22T15:48:32.056991Z"
    },
    "papermill": {
     "duration": 0.083726,
     "end_time": "2021-05-22T15:48:32.057134",
     "exception": false,
     "start_time": "2021-05-22T15:48:31.973408",
     "status": "completed"
    },
    "tags": []
   },
   "outputs": [
    {
     "data": {
      "text/html": [
       "<div>\n",
       "<style scoped>\n",
       "    .dataframe tbody tr th:only-of-type {\n",
       "        vertical-align: middle;\n",
       "    }\n",
       "\n",
       "    .dataframe tbody tr th {\n",
       "        vertical-align: top;\n",
       "    }\n",
       "\n",
       "    .dataframe thead th {\n",
       "        text-align: right;\n",
       "    }\n",
       "</style>\n",
       "<table border=\"1\" class=\"dataframe\">\n",
       "  <thead>\n",
       "    <tr style=\"text-align: right;\">\n",
       "      <th></th>\n",
       "      <th>year</th>\n",
       "      <th>make</th>\n",
       "      <th>model</th>\n",
       "      <th>trim</th>\n",
       "      <th>body</th>\n",
       "      <th>transmission</th>\n",
       "      <th>state</th>\n",
       "      <th>condition</th>\n",
       "      <th>odometer</th>\n",
       "      <th>color</th>\n",
       "      <th>interior</th>\n",
       "      <th>sellingprice</th>\n",
       "    </tr>\n",
       "  </thead>\n",
       "  <tbody>\n",
       "    <tr>\n",
       "      <th>0</th>\n",
       "      <td>2015</td>\n",
       "      <td>kia</td>\n",
       "      <td>sorento</td>\n",
       "      <td>lx</td>\n",
       "      <td>suv</td>\n",
       "      <td>1</td>\n",
       "      <td>ca</td>\n",
       "      <td>5.0</td>\n",
       "      <td>16639.0</td>\n",
       "      <td>white</td>\n",
       "      <td>black</td>\n",
       "      <td>21500</td>\n",
       "    </tr>\n",
       "    <tr>\n",
       "      <th>1</th>\n",
       "      <td>2015</td>\n",
       "      <td>kia</td>\n",
       "      <td>sorento</td>\n",
       "      <td>lx</td>\n",
       "      <td>suv</td>\n",
       "      <td>1</td>\n",
       "      <td>ca</td>\n",
       "      <td>5.0</td>\n",
       "      <td>9393.0</td>\n",
       "      <td>white</td>\n",
       "      <td>beige</td>\n",
       "      <td>21500</td>\n",
       "    </tr>\n",
       "    <tr>\n",
       "      <th>2</th>\n",
       "      <td>2014</td>\n",
       "      <td>bmw</td>\n",
       "      <td>3 series</td>\n",
       "      <td>328i sulev</td>\n",
       "      <td>sedan</td>\n",
       "      <td>1</td>\n",
       "      <td>ca</td>\n",
       "      <td>4.5</td>\n",
       "      <td>1331.0</td>\n",
       "      <td>gray</td>\n",
       "      <td>black</td>\n",
       "      <td>30000</td>\n",
       "    </tr>\n",
       "    <tr>\n",
       "      <th>3</th>\n",
       "      <td>2015</td>\n",
       "      <td>volvo</td>\n",
       "      <td>s60</td>\n",
       "      <td>t5</td>\n",
       "      <td>sedan</td>\n",
       "      <td>1</td>\n",
       "      <td>ca</td>\n",
       "      <td>4.1</td>\n",
       "      <td>14282.0</td>\n",
       "      <td>white</td>\n",
       "      <td>black</td>\n",
       "      <td>27750</td>\n",
       "    </tr>\n",
       "    <tr>\n",
       "      <th>4</th>\n",
       "      <td>2014</td>\n",
       "      <td>bmw</td>\n",
       "      <td>6 series gran coupe</td>\n",
       "      <td>650i</td>\n",
       "      <td>sedan</td>\n",
       "      <td>1</td>\n",
       "      <td>ca</td>\n",
       "      <td>4.3</td>\n",
       "      <td>2641.0</td>\n",
       "      <td>gray</td>\n",
       "      <td>black</td>\n",
       "      <td>67000</td>\n",
       "    </tr>\n",
       "  </tbody>\n",
       "</table>\n",
       "</div>"
      ],
      "text/plain": [
       "   year   make                model        trim   body  transmission state  \\\n",
       "0  2015    kia              sorento          lx    suv             1    ca   \n",
       "1  2015    kia              sorento          lx    suv             1    ca   \n",
       "2  2014    bmw             3 series  328i sulev  sedan             1    ca   \n",
       "3  2015  volvo                  s60          t5  sedan             1    ca   \n",
       "4  2014    bmw  6 series gran coupe        650i  sedan             1    ca   \n",
       "\n",
       "   condition  odometer  color interior  sellingprice  \n",
       "0        5.0   16639.0  white    black         21500  \n",
       "1        5.0    9393.0  white    beige         21500  \n",
       "2        4.5    1331.0   gray    black         30000  \n",
       "3        4.1   14282.0  white    black         27750  \n",
       "4        4.3    2641.0   gray    black         67000  "
      ]
     },
     "execution_count": 13,
     "metadata": {},
     "output_type": "execute_result"
    }
   ],
   "source": [
    "data['transmission'].replace(['manual', 'automatic'],\n",
    "                        [0, 1], inplace=True)\n",
    "\n",
    "prev_unique = len(data['body'].unique())\n",
    "\n",
    "for col in data.columns:\n",
    "    if type(data[col][0]) is str:\n",
    "        data[col] = data[col].apply(lambda x: x.lower())\n",
    "        \n",
    "curr_unique = len(data['body'].unique())   \n",
    "\n",
    "data.head(5)"
   ]
  },
  {
   "cell_type": "code",
   "execution_count": 14,
   "metadata": {},
   "outputs": [
    {
     "name": "stdout",
     "output_type": "stream",
     "text": [
      "85 45\n"
     ]
    }
   ],
   "source": [
    "print(prev_unique, curr_unique)"
   ]
  },
  {
   "cell_type": "code",
   "execution_count": 15,
   "metadata": {
    "execution": {
     "iopub.execute_input": "2021-05-22T15:48:32.137899Z",
     "iopub.status.busy": "2021-05-22T15:48:32.137021Z",
     "iopub.status.idle": "2021-05-22T15:48:32.146724Z",
     "shell.execute_reply": "2021-05-22T15:48:32.147234Z"
    },
    "papermill": {
     "duration": 0.052279,
     "end_time": "2021-05-22T15:48:32.147370",
     "exception": false,
     "start_time": "2021-05-22T15:48:32.095091",
     "status": "completed"
    },
    "tags": []
   },
   "outputs": [
    {
     "data": {
      "text/plain": [
       "year            0\n",
       "make            0\n",
       "model           0\n",
       "trim            0\n",
       "body            0\n",
       "transmission    0\n",
       "state           0\n",
       "condition       0\n",
       "odometer        0\n",
       "color           0\n",
       "interior        0\n",
       "sellingprice    0\n",
       "dtype: int64"
      ]
     },
     "execution_count": 15,
     "metadata": {},
     "output_type": "execute_result"
    }
   ],
   "source": [
    "data.isnull().sum()"
   ]
  },
  {
   "cell_type": "code",
   "execution_count": 16,
   "metadata": {
    "execution": {
     "iopub.execute_input": "2021-05-22T15:48:32.317483Z",
     "iopub.status.busy": "2021-05-22T15:48:32.316619Z",
     "iopub.status.idle": "2021-05-22T15:48:32.323064Z",
     "shell.execute_reply": "2021-05-22T15:48:32.323465Z"
    },
    "papermill": {
     "duration": 0.046939,
     "end_time": "2021-05-22T15:48:32.323605",
     "exception": false,
     "start_time": "2021-05-22T15:48:32.276666",
     "status": "completed"
    },
    "tags": []
   },
   "outputs": [
    {
     "data": {
      "text/plain": [
       "year              int64\n",
       "make             object\n",
       "model            object\n",
       "trim             object\n",
       "body             object\n",
       "transmission      int64\n",
       "state            object\n",
       "condition       float64\n",
       "odometer        float64\n",
       "color            object\n",
       "interior         object\n",
       "sellingprice      int64\n",
       "dtype: object"
      ]
     },
     "execution_count": 16,
     "metadata": {},
     "output_type": "execute_result"
    }
   ],
   "source": [
    "data.dtypes"
   ]
  },
  {
   "cell_type": "code",
   "execution_count": 17,
   "metadata": {
    "execution": {
     "iopub.execute_input": "2021-05-22T15:48:32.502001Z",
     "iopub.status.busy": "2021-05-22T15:48:32.501441Z",
     "iopub.status.idle": "2021-05-22T15:48:32.535635Z",
     "shell.execute_reply": "2021-05-22T15:48:32.535157Z"
    },
    "papermill": {
     "duration": 0.076267,
     "end_time": "2021-05-22T15:48:32.535773",
     "exception": false,
     "start_time": "2021-05-22T15:48:32.459506",
     "status": "completed"
    },
    "tags": []
   },
   "outputs": [
    {
     "data": {
      "text/html": [
       "<div>\n",
       "<style scoped>\n",
       "    .dataframe tbody tr th:only-of-type {\n",
       "        vertical-align: middle;\n",
       "    }\n",
       "\n",
       "    .dataframe tbody tr th {\n",
       "        vertical-align: top;\n",
       "    }\n",
       "\n",
       "    .dataframe thead th {\n",
       "        text-align: right;\n",
       "    }\n",
       "</style>\n",
       "<table border=\"1\" class=\"dataframe\">\n",
       "  <thead>\n",
       "    <tr style=\"text-align: right;\">\n",
       "      <th></th>\n",
       "      <th>year</th>\n",
       "      <th>transmission</th>\n",
       "      <th>condition</th>\n",
       "      <th>odometer</th>\n",
       "      <th>sellingprice</th>\n",
       "    </tr>\n",
       "  </thead>\n",
       "  <tbody>\n",
       "    <tr>\n",
       "      <th>count</th>\n",
       "      <td>472336.000000</td>\n",
       "      <td>472336.000000</td>\n",
       "      <td>472336.000000</td>\n",
       "      <td>472336.000000</td>\n",
       "      <td>472336.000000</td>\n",
       "    </tr>\n",
       "    <tr>\n",
       "      <th>mean</th>\n",
       "      <td>2010.211045</td>\n",
       "      <td>0.965359</td>\n",
       "      <td>3.426576</td>\n",
       "      <td>66701.070003</td>\n",
       "      <td>13690.403670</td>\n",
       "    </tr>\n",
       "    <tr>\n",
       "      <th>std</th>\n",
       "      <td>3.822131</td>\n",
       "      <td>0.182868</td>\n",
       "      <td>0.943659</td>\n",
       "      <td>51939.183430</td>\n",
       "      <td>9612.962279</td>\n",
       "    </tr>\n",
       "    <tr>\n",
       "      <th>min</th>\n",
       "      <td>1990.000000</td>\n",
       "      <td>0.000000</td>\n",
       "      <td>1.000000</td>\n",
       "      <td>1.000000</td>\n",
       "      <td>1.000000</td>\n",
       "    </tr>\n",
       "    <tr>\n",
       "      <th>25%</th>\n",
       "      <td>2008.000000</td>\n",
       "      <td>1.000000</td>\n",
       "      <td>2.700000</td>\n",
       "      <td>28137.000000</td>\n",
       "      <td>7200.000000</td>\n",
       "    </tr>\n",
       "    <tr>\n",
       "      <th>50%</th>\n",
       "      <td>2012.000000</td>\n",
       "      <td>1.000000</td>\n",
       "      <td>3.600000</td>\n",
       "      <td>51084.000000</td>\n",
       "      <td>12200.000000</td>\n",
       "    </tr>\n",
       "    <tr>\n",
       "      <th>75%</th>\n",
       "      <td>2013.000000</td>\n",
       "      <td>1.000000</td>\n",
       "      <td>4.200000</td>\n",
       "      <td>96589.000000</td>\n",
       "      <td>18200.000000</td>\n",
       "    </tr>\n",
       "    <tr>\n",
       "      <th>max</th>\n",
       "      <td>2015.000000</td>\n",
       "      <td>1.000000</td>\n",
       "      <td>5.000000</td>\n",
       "      <td>999999.000000</td>\n",
       "      <td>230000.000000</td>\n",
       "    </tr>\n",
       "  </tbody>\n",
       "</table>\n",
       "</div>"
      ],
      "text/plain": [
       "                year   transmission      condition       odometer  \\\n",
       "count  472336.000000  472336.000000  472336.000000  472336.000000   \n",
       "mean     2010.211045       0.965359       3.426576   66701.070003   \n",
       "std         3.822131       0.182868       0.943659   51939.183430   \n",
       "min      1990.000000       0.000000       1.000000       1.000000   \n",
       "25%      2008.000000       1.000000       2.700000   28137.000000   \n",
       "50%      2012.000000       1.000000       3.600000   51084.000000   \n",
       "75%      2013.000000       1.000000       4.200000   96589.000000   \n",
       "max      2015.000000       1.000000       5.000000  999999.000000   \n",
       "\n",
       "        sellingprice  \n",
       "count  472336.000000  \n",
       "mean    13690.403670  \n",
       "std      9612.962279  \n",
       "min         1.000000  \n",
       "25%      7200.000000  \n",
       "50%     12200.000000  \n",
       "75%     18200.000000  \n",
       "max    230000.000000  "
      ]
     },
     "execution_count": 17,
     "metadata": {},
     "output_type": "execute_result"
    }
   ],
   "source": [
    "data.describe()"
   ]
  },
  {
   "cell_type": "markdown",
   "metadata": {
    "papermill": {
     "duration": 0.037915,
     "end_time": "2021-05-22T15:48:32.700664",
     "exception": false,
     "start_time": "2021-05-22T15:48:32.662749",
     "status": "completed"
    },
    "tags": []
   },
   "source": [
    "# III. EXPLORATORY DATA ANALYSIS\n",
    "\n",
    "After preprocessing the data, it is analyzed through visual exploration to gather insights about the model that\n",
    "can be applied to the data, understand the diversity in the data and the range of every field."
   ]
  },
  {
   "cell_type": "code",
   "execution_count": 18,
   "metadata": {
    "execution": {
     "iopub.execute_input": "2021-05-22T15:48:32.788550Z",
     "iopub.status.busy": "2021-05-22T15:48:32.787992Z",
     "iopub.status.idle": "2021-05-22T15:48:32.796387Z",
     "shell.execute_reply": "2021-05-22T15:48:32.796852Z"
    },
    "papermill": {
     "duration": 0.056502,
     "end_time": "2021-05-22T15:48:32.796989",
     "exception": false,
     "start_time": "2021-05-22T15:48:32.740487",
     "status": "completed"
    },
    "tags": []
   },
   "outputs": [
    {
     "data": {
      "text/html": [
       "<div>\n",
       "<style scoped>\n",
       "    .dataframe tbody tr th:only-of-type {\n",
       "        vertical-align: middle;\n",
       "    }\n",
       "\n",
       "    .dataframe tbody tr th {\n",
       "        vertical-align: top;\n",
       "    }\n",
       "\n",
       "    .dataframe thead th {\n",
       "        text-align: right;\n",
       "    }\n",
       "</style>\n",
       "<table border=\"1\" class=\"dataframe\">\n",
       "  <thead>\n",
       "    <tr style=\"text-align: right;\">\n",
       "      <th></th>\n",
       "      <th>year</th>\n",
       "      <th>make</th>\n",
       "      <th>model</th>\n",
       "      <th>trim</th>\n",
       "      <th>body</th>\n",
       "      <th>transmission</th>\n",
       "      <th>state</th>\n",
       "      <th>condition</th>\n",
       "      <th>odometer</th>\n",
       "      <th>color</th>\n",
       "      <th>interior</th>\n",
       "      <th>sellingprice</th>\n",
       "    </tr>\n",
       "  </thead>\n",
       "  <tbody>\n",
       "    <tr>\n",
       "      <th>0</th>\n",
       "      <td>2015</td>\n",
       "      <td>kia</td>\n",
       "      <td>sorento</td>\n",
       "      <td>lx</td>\n",
       "      <td>suv</td>\n",
       "      <td>1</td>\n",
       "      <td>ca</td>\n",
       "      <td>5.0</td>\n",
       "      <td>16639.0</td>\n",
       "      <td>white</td>\n",
       "      <td>black</td>\n",
       "      <td>21500</td>\n",
       "    </tr>\n",
       "    <tr>\n",
       "      <th>1</th>\n",
       "      <td>2015</td>\n",
       "      <td>kia</td>\n",
       "      <td>sorento</td>\n",
       "      <td>lx</td>\n",
       "      <td>suv</td>\n",
       "      <td>1</td>\n",
       "      <td>ca</td>\n",
       "      <td>5.0</td>\n",
       "      <td>9393.0</td>\n",
       "      <td>white</td>\n",
       "      <td>beige</td>\n",
       "      <td>21500</td>\n",
       "    </tr>\n",
       "    <tr>\n",
       "      <th>2</th>\n",
       "      <td>2014</td>\n",
       "      <td>bmw</td>\n",
       "      <td>3 series</td>\n",
       "      <td>328i sulev</td>\n",
       "      <td>sedan</td>\n",
       "      <td>1</td>\n",
       "      <td>ca</td>\n",
       "      <td>4.5</td>\n",
       "      <td>1331.0</td>\n",
       "      <td>gray</td>\n",
       "      <td>black</td>\n",
       "      <td>30000</td>\n",
       "    </tr>\n",
       "  </tbody>\n",
       "</table>\n",
       "</div>"
      ],
      "text/plain": [
       "   year make     model        trim   body  transmission state  condition  \\\n",
       "0  2015  kia   sorento          lx    suv             1    ca        5.0   \n",
       "1  2015  kia   sorento          lx    suv             1    ca        5.0   \n",
       "2  2014  bmw  3 series  328i sulev  sedan             1    ca        4.5   \n",
       "\n",
       "   odometer  color interior  sellingprice  \n",
       "0   16639.0  white    black         21500  \n",
       "1    9393.0  white    beige         21500  \n",
       "2    1331.0   gray    black         30000  "
      ]
     },
     "execution_count": 18,
     "metadata": {},
     "output_type": "execute_result"
    }
   ],
   "source": [
    "data.head(3)"
   ]
  },
  {
   "cell_type": "markdown",
   "metadata": {
    "papermill": {
     "duration": 0.039216,
     "end_time": "2021-05-22T15:48:32.876824",
     "exception": false,
     "start_time": "2021-05-22T15:48:32.837608",
     "status": "completed"
    },
    "tags": []
   },
   "source": [
    "Now, let's check the Price first."
   ]
  },
  {
   "cell_type": "code",
   "execution_count": 19,
   "metadata": {
    "execution": {
     "iopub.execute_input": "2021-05-22T15:48:32.958631Z",
     "iopub.status.busy": "2021-05-22T15:48:32.957991Z",
     "iopub.status.idle": "2021-05-22T15:48:33.213869Z",
     "shell.execute_reply": "2021-05-22T15:48:33.214269Z"
    },
    "papermill": {
     "duration": 0.298518,
     "end_time": "2021-05-22T15:48:33.214426",
     "exception": false,
     "start_time": "2021-05-22T15:48:32.915908",
     "status": "completed"
    },
    "tags": []
   },
   "outputs": [
    {
     "name": "stdout",
     "output_type": "stream",
     "text": [
      "Skewness: 2.003565\n",
      "Kurtosis: 12.057796\n"
     ]
    },
    {
     "data": {
      "image/png": "[encoded data removed]",
      "text/plain": [
       "<Figure size 432x288 with 1 Axes>"
      ]
     },
     "metadata": {
      "needs_background": "light"
     },
     "output_type": "display_data"
    }
   ],
   "source": [
    "sns.distplot(data['sellingprice'])\n",
    "\n",
    "print(\"Skewness: %f\" % data['sellingprice'].skew())\n",
    "print(\"Kurtosis: %f\" % data['sellingprice'].kurt())"
   ]
  },
  {
   "cell_type": "markdown",
   "metadata": {
    "papermill": {
     "duration": 0.040514,
     "end_time": "2021-05-22T15:48:33.296436",
     "exception": false,
     "start_time": "2021-05-22T15:48:33.255922",
     "status": "completed"
    },
    "tags": []
   },
   "source": [
    "We can observe that the distribution of prices shows a high positive skewness to the left (skew > 1). A kurtosis value of 12 is very high, meaning that there is a profusion of outliers in the dataset."
   ]
  },
  {
   "cell_type": "code",
   "execution_count": 20,
   "metadata": {
    "execution": {
     "iopub.execute_input": "2021-05-22T15:48:33.380634Z",
     "iopub.status.busy": "2021-05-22T15:48:33.380075Z",
     "iopub.status.idle": "2021-05-22T15:48:33.831247Z",
     "shell.execute_reply": "2021-05-22T15:48:33.831750Z"
    },
    "papermill": {
     "duration": 0.494416,
     "end_time": "2021-05-22T15:48:33.831954",
     "exception": false,
     "start_time": "2021-05-22T15:48:33.337538",
     "status": "completed"
    },
    "tags": []
   },
   "outputs": [
    {
     "data": {
      "image/png": "[encoded data removed]",
      "text/plain": [
       "<Figure size 432x288 with 1 Axes>"
      ]
     },
     "metadata": {
      "needs_background": "light"
     },
     "output_type": "display_data"
    },
    {
     "data": {
      "image/png": "[encoded data removed]",
      "text/plain": [
       "<Figure size 432x288 with 1 Axes>"
      ]
     },
     "metadata": {
      "needs_background": "light"
     },
     "output_type": "display_data"
    }
   ],
   "source": [
    "# applying log transformation\n",
    "data['sellingprice'] = np.log(data['sellingprice'])\n",
    "# transformed histogram and normal probability plot\n",
    "sns.distplot(data['sellingprice'], fit=None);\n",
    "fig = plt.figure()\n",
    "res = stats.probplot(data['sellingprice'], plot=plt)"
   ]
  },
  {
   "cell_type": "markdown",
   "metadata": {
    "papermill": {
     "duration": 0.043255,
     "end_time": "2021-05-22T15:48:33.917263",
     "exception": false,
     "start_time": "2021-05-22T15:48:33.874008",
     "status": "completed"
    },
    "tags": []
   },
   "source": [
    "We found that converting the value of sellingprice to Log(sellingprice) might be a good solution to have a more normal visualization of the distribution of the Price, however, this alternative has no major or decisive effect on the results of the train and/ or predict procedure in the next section. Therefore, in order not to complicate matters, we decided to keep the whole processed database up to this step to analyze the parameters' correlations and conduct the modeling in the following section."
   ]
  },
  {
   "cell_type": "markdown",
   "metadata": {
    "papermill": {
     "duration": 0.117489,
     "end_time": "2021-05-22T15:48:41.747047",
     "exception": false,
     "start_time": "2021-05-22T15:48:41.629558",
     "status": "completed"
    },
    "tags": []
   },
   "source": [
    "# MODEL DESCRIPTION\n",
    "\n",
    "To compute the price for vehicles, this platform may compute linear regression model that defines a set of input variables. However, it does not give details as what features can be used for specific type of vehicles for such prediction. We have taken important features for predicting the price of used cars using random forest models.\n",
    "\n",
    "The author of some jupyter notebook evaluates the performance of several classification methods (logistic regression, SVM, decision tree, Extra Trees, AdaBoost, random forest) to assess the performance on similar dataset. Among all these models, random forest classifier proves to perform the best for their prediction task.\n",
    "\n",
    "This work uses 11 features ('Cars', 'Location', 'Year', 'Kilometers_Driven', 'Fuel_Type', 'Transmission', 'Owner_Type', 'Mileage', 'Engine', 'Power', 'Seats') to perform the classification task after removal of irrelevant features from the dataset which gives an accuracy of 96.2% on the test data. We also use Kaggle data-set to perform prediction of used-car prices. "
   ]
  },
  {
   "cell_type": "markdown",
   "metadata": {
    "papermill": {
     "duration": 0.123689,
     "end_time": "2021-05-22T15:48:41.987060",
     "exception": false,
     "start_time": "2021-05-22T15:48:41.863371",
     "status": "completed"
    },
    "tags": []
   },
   "source": [
    "**A. Data preparation & Model Parameters**\n",
    "\n",
    "In this Notebook, we do not discuss in deep about the Models' parameters, we just applied the standard or refer to previous recommendations. Let's copy the database."
   ]
  },
  {
   "cell_type": "code",
   "execution_count": 21,
   "metadata": {
    "execution": {
     "iopub.execute_input": "2021-05-22T15:48:42.292987Z",
     "iopub.status.busy": "2021-05-22T15:48:42.292160Z",
     "iopub.status.idle": "2021-05-22T15:48:42.310953Z",
     "shell.execute_reply": "2021-05-22T15:48:42.310414Z"
    },
    "papermill": {
     "duration": 0.134893,
     "end_time": "2021-05-22T15:48:42.311077",
     "exception": false,
     "start_time": "2021-05-22T15:48:42.176184",
     "status": "completed"
    },
    "tags": []
   },
   "outputs": [],
   "source": [
    "import copy\n",
    "df_train=copy.deepcopy(data)\n",
    "\n",
    "cols=np.array(data.columns[data.dtypes != object])\n",
    "for i in df_train.columns:\n",
    "    if i not in cols:\n",
    "        df_train[i]=df_train[i].map(str)\n",
    "df_train.drop(columns=cols,inplace=True)"
   ]
  },
  {
   "cell_type": "code",
   "execution_count": 22,
   "metadata": {},
   "outputs": [
    {
     "data": {
      "text/html": [
       "<div>\n",
       "<style scoped>\n",
       "    .dataframe tbody tr th:only-of-type {\n",
       "        vertical-align: middle;\n",
       "    }\n",
       "\n",
       "    .dataframe tbody tr th {\n",
       "        vertical-align: top;\n",
       "    }\n",
       "\n",
       "    .dataframe thead th {\n",
       "        text-align: right;\n",
       "    }\n",
       "</style>\n",
       "<table border=\"1\" class=\"dataframe\">\n",
       "  <thead>\n",
       "    <tr style=\"text-align: right;\">\n",
       "      <th></th>\n",
       "      <th>make</th>\n",
       "      <th>model</th>\n",
       "      <th>trim</th>\n",
       "      <th>body</th>\n",
       "      <th>state</th>\n",
       "      <th>color</th>\n",
       "      <th>interior</th>\n",
       "    </tr>\n",
       "  </thead>\n",
       "  <tbody>\n",
       "    <tr>\n",
       "      <th>0</th>\n",
       "      <td>kia</td>\n",
       "      <td>sorento</td>\n",
       "      <td>lx</td>\n",
       "      <td>suv</td>\n",
       "      <td>ca</td>\n",
       "      <td>white</td>\n",
       "      <td>black</td>\n",
       "    </tr>\n",
       "    <tr>\n",
       "      <th>1</th>\n",
       "      <td>kia</td>\n",
       "      <td>sorento</td>\n",
       "      <td>lx</td>\n",
       "      <td>suv</td>\n",
       "      <td>ca</td>\n",
       "      <td>white</td>\n",
       "      <td>beige</td>\n",
       "    </tr>\n",
       "    <tr>\n",
       "      <th>2</th>\n",
       "      <td>bmw</td>\n",
       "      <td>3 series</td>\n",
       "      <td>328i sulev</td>\n",
       "      <td>sedan</td>\n",
       "      <td>ca</td>\n",
       "      <td>gray</td>\n",
       "      <td>black</td>\n",
       "    </tr>\n",
       "    <tr>\n",
       "      <th>3</th>\n",
       "      <td>volvo</td>\n",
       "      <td>s60</td>\n",
       "      <td>t5</td>\n",
       "      <td>sedan</td>\n",
       "      <td>ca</td>\n",
       "      <td>white</td>\n",
       "      <td>black</td>\n",
       "    </tr>\n",
       "    <tr>\n",
       "      <th>4</th>\n",
       "      <td>bmw</td>\n",
       "      <td>6 series gran coupe</td>\n",
       "      <td>650i</td>\n",
       "      <td>sedan</td>\n",
       "      <td>ca</td>\n",
       "      <td>gray</td>\n",
       "      <td>black</td>\n",
       "    </tr>\n",
       "    <tr>\n",
       "      <th>5</th>\n",
       "      <td>nissan</td>\n",
       "      <td>altima</td>\n",
       "      <td>2.5 s</td>\n",
       "      <td>sedan</td>\n",
       "      <td>ca</td>\n",
       "      <td>gray</td>\n",
       "      <td>black</td>\n",
       "    </tr>\n",
       "    <tr>\n",
       "      <th>6</th>\n",
       "      <td>bmw</td>\n",
       "      <td>m5</td>\n",
       "      <td>base</td>\n",
       "      <td>sedan</td>\n",
       "      <td>ca</td>\n",
       "      <td>black</td>\n",
       "      <td>black</td>\n",
       "    </tr>\n",
       "    <tr>\n",
       "      <th>7</th>\n",
       "      <td>chevrolet</td>\n",
       "      <td>cruze</td>\n",
       "      <td>1lt</td>\n",
       "      <td>sedan</td>\n",
       "      <td>ca</td>\n",
       "      <td>black</td>\n",
       "      <td>black</td>\n",
       "    </tr>\n",
       "    <tr>\n",
       "      <th>8</th>\n",
       "      <td>audi</td>\n",
       "      <td>a4</td>\n",
       "      <td>2.0t premium plus quattro</td>\n",
       "      <td>sedan</td>\n",
       "      <td>ca</td>\n",
       "      <td>white</td>\n",
       "      <td>black</td>\n",
       "    </tr>\n",
       "    <tr>\n",
       "      <th>9</th>\n",
       "      <td>chevrolet</td>\n",
       "      <td>camaro</td>\n",
       "      <td>lt</td>\n",
       "      <td>convertible</td>\n",
       "      <td>ca</td>\n",
       "      <td>red</td>\n",
       "      <td>black</td>\n",
       "    </tr>\n",
       "  </tbody>\n",
       "</table>\n",
       "</div>"
      ],
      "text/plain": [
       "        make                model                       trim         body  \\\n",
       "0        kia              sorento                         lx          suv   \n",
       "1        kia              sorento                         lx          suv   \n",
       "2        bmw             3 series                 328i sulev        sedan   \n",
       "3      volvo                  s60                         t5        sedan   \n",
       "4        bmw  6 series gran coupe                       650i        sedan   \n",
       "5     nissan               altima                      2.5 s        sedan   \n",
       "6        bmw                   m5                       base        sedan   \n",
       "7  chevrolet                cruze                        1lt        sedan   \n",
       "8       audi                   a4  2.0t premium plus quattro        sedan   \n",
       "9  chevrolet               camaro                         lt  convertible   \n",
       "\n",
       "  state  color interior  \n",
       "0    ca  white    black  \n",
       "1    ca  white    beige  \n",
       "2    ca   gray    black  \n",
       "3    ca  white    black  \n",
       "4    ca   gray    black  \n",
       "5    ca   gray    black  \n",
       "6    ca  black    black  \n",
       "7    ca  black    black  \n",
       "8    ca  white    black  \n",
       "9    ca    red    black  "
      ]
     },
     "execution_count": 22,
     "metadata": {},
     "output_type": "execute_result"
    }
   ],
   "source": [
    "df_train.head(10)"
   ]
  },
  {
   "cell_type": "markdown",
   "metadata": {
    "papermill": {
     "duration": 0.109035,
     "end_time": "2021-05-22T15:48:42.532480",
     "exception": false,
     "start_time": "2021-05-22T15:48:42.423445",
     "status": "completed"
    },
    "tags": []
   },
   "source": [
    "And then, coding the categorical parameters using LabelEncoder."
   ]
  },
  {
   "cell_type": "code",
   "execution_count": 23,
   "metadata": {
    "execution": {
     "iopub.execute_input": "2021-05-22T15:48:42.787376Z",
     "iopub.status.busy": "2021-05-22T15:48:42.773373Z",
     "iopub.status.idle": "2021-05-22T15:48:42.789621Z",
     "shell.execute_reply": "2021-05-22T15:48:42.790119Z"
    },
    "papermill": {
     "duration": 0.144621,
     "end_time": "2021-05-22T15:48:42.790270",
     "exception": false,
     "start_time": "2021-05-22T15:48:42.645649",
     "status": "completed"
    },
    "tags": []
   },
   "outputs": [],
   "source": [
    "from sklearn.preprocessing import LabelEncoder\n",
    "from collections import defaultdict\n",
    "\n",
    "# build dictionary function\n",
    "cols = np.array(data.columns[data.dtypes != object])\n",
    "d = defaultdict(LabelEncoder)\n",
    "\n",
    "# only for categorical columns apply dictionary by calling fit_transform \n",
    "df_train = df_train.apply(lambda x: d[x.name].fit_transform(x))\n",
    "df_train[cols] = data[cols]"
   ]
  },
  {
   "cell_type": "code",
   "execution_count": 24,
   "metadata": {
    "execution": {
     "iopub.execute_input": "2021-05-22T15:48:43.307574Z",
     "iopub.status.busy": "2021-05-22T15:48:43.297457Z",
     "iopub.status.idle": "2021-05-22T15:48:43.311082Z",
     "shell.execute_reply": "2021-05-22T15:48:43.311590Z"
    },
    "papermill": {
     "duration": 0.130402,
     "end_time": "2021-05-22T15:48:43.311758",
     "exception": false,
     "start_time": "2021-05-22T15:48:43.181356",
     "status": "completed"
    },
    "tags": []
   },
   "outputs": [
    {
     "data": {
      "text/html": [
       "<div>\n",
       "<style scoped>\n",
       "    .dataframe tbody tr th:only-of-type {\n",
       "        vertical-align: middle;\n",
       "    }\n",
       "\n",
       "    .dataframe tbody tr th {\n",
       "        vertical-align: top;\n",
       "    }\n",
       "\n",
       "    .dataframe thead th {\n",
       "        text-align: right;\n",
       "    }\n",
       "</style>\n",
       "<table border=\"1\" class=\"dataframe\">\n",
       "  <thead>\n",
       "    <tr style=\"text-align: right;\">\n",
       "      <th></th>\n",
       "      <th>make</th>\n",
       "      <th>model</th>\n",
       "      <th>trim</th>\n",
       "      <th>body</th>\n",
       "      <th>state</th>\n",
       "      <th>color</th>\n",
       "      <th>interior</th>\n",
       "      <th>year</th>\n",
       "      <th>transmission</th>\n",
       "      <th>condition</th>\n",
       "      <th>odometer</th>\n",
       "      <th>sellingprice</th>\n",
       "    </tr>\n",
       "  </thead>\n",
       "  <tbody>\n",
       "    <tr>\n",
       "      <th>0</th>\n",
       "      <td>24</td>\n",
       "      <td>637</td>\n",
       "      <td>873</td>\n",
       "      <td>39</td>\n",
       "      <td>2</td>\n",
       "      <td>17</td>\n",
       "      <td>1</td>\n",
       "      <td>2015</td>\n",
       "      <td>1</td>\n",
       "      <td>5.0</td>\n",
       "      <td>16639.0</td>\n",
       "      <td>9.975808</td>\n",
       "    </tr>\n",
       "    <tr>\n",
       "      <th>1</th>\n",
       "      <td>24</td>\n",
       "      <td>637</td>\n",
       "      <td>873</td>\n",
       "      <td>39</td>\n",
       "      <td>2</td>\n",
       "      <td>17</td>\n",
       "      <td>0</td>\n",
       "      <td>2015</td>\n",
       "      <td>1</td>\n",
       "      <td>5.0</td>\n",
       "      <td>9393.0</td>\n",
       "      <td>9.975808</td>\n",
       "    </tr>\n",
       "    <tr>\n",
       "      <th>2</th>\n",
       "      <td>4</td>\n",
       "      <td>8</td>\n",
       "      <td>255</td>\n",
       "      <td>36</td>\n",
       "      <td>2</td>\n",
       "      <td>7</td>\n",
       "      <td>1</td>\n",
       "      <td>2014</td>\n",
       "      <td>1</td>\n",
       "      <td>4.5</td>\n",
       "      <td>1331.0</td>\n",
       "      <td>10.308953</td>\n",
       "    </tr>\n",
       "    <tr>\n",
       "      <th>3</th>\n",
       "      <td>52</td>\n",
       "      <td>582</td>\n",
       "      <td>1243</td>\n",
       "      <td>36</td>\n",
       "      <td>2</td>\n",
       "      <td>17</td>\n",
       "      <td>1</td>\n",
       "      <td>2015</td>\n",
       "      <td>1</td>\n",
       "      <td>4.1</td>\n",
       "      <td>14282.0</td>\n",
       "      <td>10.230991</td>\n",
       "    </tr>\n",
       "    <tr>\n",
       "      <th>4</th>\n",
       "      <td>4</td>\n",
       "      <td>33</td>\n",
       "      <td>338</td>\n",
       "      <td>36</td>\n",
       "      <td>2</td>\n",
       "      <td>7</td>\n",
       "      <td>1</td>\n",
       "      <td>2014</td>\n",
       "      <td>1</td>\n",
       "      <td>4.3</td>\n",
       "      <td>2641.0</td>\n",
       "      <td>11.112448</td>\n",
       "    </tr>\n",
       "    <tr>\n",
       "      <th>5</th>\n",
       "      <td>36</td>\n",
       "      <td>64</td>\n",
       "      <td>104</td>\n",
       "      <td>36</td>\n",
       "      <td>2</td>\n",
       "      <td>7</td>\n",
       "      <td>1</td>\n",
       "      <td>2015</td>\n",
       "      <td>1</td>\n",
       "      <td>1.0</td>\n",
       "      <td>5554.0</td>\n",
       "      <td>9.296518</td>\n",
       "    </tr>\n",
       "    <tr>\n",
       "      <th>6</th>\n",
       "      <td>4</td>\n",
       "      <td>413</td>\n",
       "      <td>389</td>\n",
       "      <td>36</td>\n",
       "      <td>2</td>\n",
       "      <td>1</td>\n",
       "      <td>1</td>\n",
       "      <td>2014</td>\n",
       "      <td>1</td>\n",
       "      <td>3.4</td>\n",
       "      <td>14943.0</td>\n",
       "      <td>11.082143</td>\n",
       "    </tr>\n",
       "    <tr>\n",
       "      <th>7</th>\n",
       "      <td>7</td>\n",
       "      <td>177</td>\n",
       "      <td>47</td>\n",
       "      <td>36</td>\n",
       "      <td>2</td>\n",
       "      <td>1</td>\n",
       "      <td>1</td>\n",
       "      <td>2014</td>\n",
       "      <td>1</td>\n",
       "      <td>2.0</td>\n",
       "      <td>28617.0</td>\n",
       "      <td>9.190138</td>\n",
       "    </tr>\n",
       "    <tr>\n",
       "      <th>8</th>\n",
       "      <td>2</td>\n",
       "      <td>46</td>\n",
       "      <td>71</td>\n",
       "      <td>36</td>\n",
       "      <td>2</td>\n",
       "      <td>17</td>\n",
       "      <td>1</td>\n",
       "      <td>2014</td>\n",
       "      <td>1</td>\n",
       "      <td>4.2</td>\n",
       "      <td>9557.0</td>\n",
       "      <td>10.381273</td>\n",
       "    </tr>\n",
       "    <tr>\n",
       "      <th>9</th>\n",
       "      <td>7</td>\n",
       "      <td>118</td>\n",
       "      <td>846</td>\n",
       "      <td>5</td>\n",
       "      <td>2</td>\n",
       "      <td>14</td>\n",
       "      <td>1</td>\n",
       "      <td>2014</td>\n",
       "      <td>1</td>\n",
       "      <td>3.0</td>\n",
       "      <td>4809.0</td>\n",
       "      <td>9.769956</td>\n",
       "    </tr>\n",
       "  </tbody>\n",
       "</table>\n",
       "</div>"
      ],
      "text/plain": [
       "   make  model  trim  body  state  color  interior  year  transmission  \\\n",
       "0    24    637   873    39      2     17         1  2015             1   \n",
       "1    24    637   873    39      2     17         0  2015             1   \n",
       "2     4      8   255    36      2      7         1  2014             1   \n",
       "3    52    582  1243    36      2     17         1  2015             1   \n",
       "4     4     33   338    36      2      7         1  2014             1   \n",
       "5    36     64   104    36      2      7         1  2015             1   \n",
       "6     4    413   389    36      2      1         1  2014             1   \n",
       "7     7    177    47    36      2      1         1  2014             1   \n",
       "8     2     46    71    36      2     17         1  2014             1   \n",
       "9     7    118   846     5      2     14         1  2014             1   \n",
       "\n",
       "   condition  odometer  sellingprice  \n",
       "0        5.0   16639.0      9.975808  \n",
       "1        5.0    9393.0      9.975808  \n",
       "2        4.5    1331.0     10.308953  \n",
       "3        4.1   14282.0     10.230991  \n",
       "4        4.3    2641.0     11.112448  \n",
       "5        1.0    5554.0      9.296518  \n",
       "6        3.4   14943.0     11.082143  \n",
       "7        2.0   28617.0      9.190138  \n",
       "8        4.2    9557.0     10.381273  \n",
       "9        3.0    4809.0      9.769956  "
      ]
     },
     "execution_count": 24,
     "metadata": {},
     "output_type": "execute_result"
    }
   ],
   "source": [
    "df_train.head(10)"
   ]
  },
  {
   "cell_type": "markdown",
   "metadata": {},
   "source": [
    "# Relationship of price with other parameter"
   ]
  },
  {
   "cell_type": "code",
   "execution_count": 25,
   "metadata": {},
   "outputs": [
    {
     "name": "stdout",
     "output_type": "stream",
     "text": [
      "Most important features relative to selling price:\n",
      "sellingprice    1.000000\n",
      "year            0.776455\n",
      "condition       0.624522\n",
      "transmission    0.070842\n",
      "trim            0.047761\n",
      "color           0.030101\n",
      "state          -0.020057\n",
      "model          -0.022356\n",
      "make           -0.035849\n",
      "body           -0.072775\n",
      "interior       -0.168183\n",
      "odometer       -0.717036\n",
      "Name: sellingprice, dtype: float64\n"
     ]
    }
   ],
   "source": [
    "print(\"Most important features relative to selling price:\")\n",
    "corr = df_train.corr()\n",
    "corr.sort_values([\"sellingprice\"], ascending = False, inplace = True)\n",
    "print(corr.sellingprice)"
   ]
  },
  {
   "cell_type": "markdown",
   "metadata": {
    "papermill": {
     "duration": 0.111053,
     "end_time": "2021-05-22T15:48:43.532126",
     "exception": false,
     "start_time": "2021-05-22T15:48:43.421073",
     "status": "completed"
    },
    "tags": []
   },
   "source": [
    "# Training and Testing\n",
    "\n",
    "We split our dataset into training, testing data with a 70:30 split ratio. The splitting was done by picking at random which results in a balance between the training data and testing data amongst the whole dataset. This is done to avoid overfitting and enhance generalization."
   ]
  },
  {
   "cell_type": "code",
   "execution_count": 26,
   "metadata": {
    "execution": {
     "iopub.execute_input": "2021-05-22T15:48:43.760692Z",
     "iopub.status.busy": "2021-05-22T15:48:43.760060Z",
     "iopub.status.idle": "2021-05-22T15:48:43.763204Z",
     "shell.execute_reply": "2021-05-22T15:48:43.762685Z"
    },
    "papermill": {
     "duration": 0.119516,
     "end_time": "2021-05-22T15:48:43.763319",
     "exception": false,
     "start_time": "2021-05-22T15:48:43.643803",
     "status": "completed"
    },
    "tags": []
   },
   "outputs": [],
   "source": [
    "ftrain = ['year', 'make', 'model','trim', 'body', 'transmission', \n",
    "          'state', 'condition', 'odometer', 'color', 'interior', 'sellingprice']\n",
    "\n",
    "def Definedata():\n",
    "    # define dataset\n",
    "    data2 = df_train[ftrain]\n",
    "    X = data2.drop(columns=['sellingprice']).values\n",
    "    y0 = data2['sellingprice'].values\n",
    "    lab_enc = preprocessing.LabelEncoder()\n",
    "    y = lab_enc.fit_transform(y0)\n",
    "    return X, y"
   ]
  },
  {
   "cell_type": "code",
   "execution_count": 27,
   "metadata": {
    "execution": {
     "iopub.execute_input": "2021-05-22T15:51:21.162670Z",
     "iopub.status.busy": "2021-05-22T15:51:21.159361Z",
     "iopub.status.idle": "2021-05-22T15:51:49.690882Z",
     "shell.execute_reply": "2021-05-22T15:51:49.690130Z"
    },
    "papermill": {
     "duration": 28.722512,
     "end_time": "2021-05-22T15:51:49.691031",
     "exception": false,
     "start_time": "2021-05-22T15:51:20.968519",
     "status": "completed"
    },
    "tags": []
   },
   "outputs": [
    {
     "name": "stdout",
     "output_type": "stream",
     "text": [
      "Wall time: 3min 16s\n"
     ]
    },
    {
     "data": {
      "text/plain": [
       "0.9580861739661458"
      ]
     },
     "execution_count": 27,
     "metadata": {},
     "output_type": "execute_result"
    }
   ],
   "source": [
    "%%time\n",
    "from sklearn.ensemble import RandomForestRegressor\n",
    "model = RandomForestRegressor()\n",
    "\n",
    "X, y = Definedata()\n",
    "X_train, X_test, y_train, y_test = train_test_split(X, y, test_size = 0.25)\n",
    "model.fit(X_train,y_train)\n",
    "\n",
    "model.score(X_test, y_test)"
   ]
  }
 ],
 "metadata": {
  "kernelspec": {
   "display_name": "Python 3 (ipykernel)",
   "language": "python",
   "name": "python3"
  },
  "language_info": {
   "codemirror_mode": {
    "name": "ipython",
    "version": 3
   },
   "file_extension": ".py",
   "mimetype": "text/x-python",
   "name": "python",
   "nbconvert_exporter": "python",
   "pygments_lexer": "ipython3",
   "version": "3.9.7"
  },
  "papermill": {
   "duration": 210.102363,
   "end_time": "2021-05-22T15:51:51.856421",
   "environment_variables": {},
   "exception": null,
   "input_path": "__notebook__.ipynb",
   "output_path": "__notebook__.ipynb",
   "parameters": {},
   "start_time": "2021-05-22T15:48:21.754058",
   "version": "2.1.0"
  }
 },
 "nbformat": 4,
 "nbformat_minor": 4
}
